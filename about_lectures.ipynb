{
 "cells": [
  {
   "cell_type": "markdown",
   "metadata": {},
   "source": [
    "# About Lectures\n",
    "\n",
    "This is one of a series of online texts on modern quantitative\n",
    "economics and programming with Python. This is the first\n",
    "text in the series, which focuses on programming in Python.\n",
    "\n",
    "For an overview of the series, see [this page](https://quantecon.org/python-lectures/)"
   ]
  }
 ],
 "metadata": {
  "date": 1590282445.5599942,
  "filename": "about_lectures.rst",
  "kernelspec": {
   "display_name": "Python",
   "language": "python3",
   "name": "python3"
  },
  "title": "About Lectures"
 },
 "nbformat": 4,
 "nbformat_minor": 2
}